{
 "cells": [
  {
   "cell_type": "code",
   "execution_count": 10,
   "id": "12734790",
   "metadata": {},
   "outputs": [],
   "source": [
    "import pandas as pd"
   ]
  },
  {
   "cell_type": "code",
   "execution_count": 11,
   "id": "07ad0405",
   "metadata": {},
   "outputs": [],
   "source": [
    "df = pd.read_csv('good_data.csv')"
   ]
  },
  {
   "cell_type": "code",
   "execution_count": 12,
   "id": "d337ad6b",
   "metadata": {},
   "outputs": [],
   "source": [
    "df.drop('S_no', axis=1, inplace=True)"
   ]
  },
  {
   "cell_type": "code",
   "execution_count": 13,
   "id": "630aeeed",
   "metadata": {},
   "outputs": [],
   "source": [
    "X = df.drop('Price', axis=1)"
   ]
  },
  {
   "cell_type": "code",
   "execution_count": 14,
   "id": "c1055c0a",
   "metadata": {},
   "outputs": [],
   "source": [
    "y = df['Price']"
   ]
  },
  {
   "cell_type": "code",
   "execution_count": 15,
   "id": "ed9cbae8",
   "metadata": {},
   "outputs": [],
   "source": [
    "from sklearn.model_selection import train_test_split"
   ]
  },
  {
   "cell_type": "code",
   "execution_count": 16,
   "id": "b181bd9a",
   "metadata": {},
   "outputs": [],
   "source": [
    "X_train, X_test, y_train, y_test=train_test_split(X, y, test_size=0.2)"
   ]
  },
  {
   "cell_type": "code",
   "execution_count": 11,
   "id": "f313faf3",
   "metadata": {},
   "outputs": [
    {
     "name": "stderr",
     "output_type": "stream",
     "text": [
      "100%|██████████████████████████████████████████████████████████████████████████████████| 42/42 [00:53<00:00,  1.28s/it]\n"
     ]
    },
    {
     "data": {
      "text/html": [
       "<div>\n",
       "<style scoped>\n",
       "    .dataframe tbody tr th:only-of-type {\n",
       "        vertical-align: middle;\n",
       "    }\n",
       "\n",
       "    .dataframe tbody tr th {\n",
       "        vertical-align: top;\n",
       "    }\n",
       "\n",
       "    .dataframe thead th {\n",
       "        text-align: right;\n",
       "    }\n",
       "</style>\n",
       "<table border=\"1\" class=\"dataframe\">\n",
       "  <thead>\n",
       "    <tr style=\"text-align: right;\">\n",
       "      <th></th>\n",
       "      <th>Adjusted R-Squared</th>\n",
       "      <th>R-Squared</th>\n",
       "      <th>RMSE</th>\n",
       "      <th>Time Taken</th>\n",
       "    </tr>\n",
       "    <tr>\n",
       "      <th>Model</th>\n",
       "      <th></th>\n",
       "      <th></th>\n",
       "      <th></th>\n",
       "      <th></th>\n",
       "    </tr>\n",
       "  </thead>\n",
       "  <tbody>\n",
       "    <tr>\n",
       "      <th>ExtraTreesRegressor</th>\n",
       "      <td>0.88</td>\n",
       "      <td>0.88</td>\n",
       "      <td>1648.35</td>\n",
       "      <td>2.24</td>\n",
       "    </tr>\n",
       "    <tr>\n",
       "      <th>XGBRegressor</th>\n",
       "      <td>0.88</td>\n",
       "      <td>0.88</td>\n",
       "      <td>1691.73</td>\n",
       "      <td>0.80</td>\n",
       "    </tr>\n",
       "    <tr>\n",
       "      <th>HistGradientBoostingRegressor</th>\n",
       "      <td>0.86</td>\n",
       "      <td>0.86</td>\n",
       "      <td>1789.93</td>\n",
       "      <td>1.34</td>\n",
       "    </tr>\n",
       "    <tr>\n",
       "      <th>LGBMRegressor</th>\n",
       "      <td>0.86</td>\n",
       "      <td>0.86</td>\n",
       "      <td>1789.96</td>\n",
       "      <td>0.26</td>\n",
       "    </tr>\n",
       "    <tr>\n",
       "      <th>RandomForestRegressor</th>\n",
       "      <td>0.84</td>\n",
       "      <td>0.84</td>\n",
       "      <td>1949.20</td>\n",
       "      <td>2.85</td>\n",
       "    </tr>\n",
       "    <tr>\n",
       "      <th>BaggingRegressor</th>\n",
       "      <td>0.80</td>\n",
       "      <td>0.80</td>\n",
       "      <td>2154.32</td>\n",
       "      <td>0.37</td>\n",
       "    </tr>\n",
       "    <tr>\n",
       "      <th>GradientBoostingRegressor</th>\n",
       "      <td>0.79</td>\n",
       "      <td>0.79</td>\n",
       "      <td>2181.16</td>\n",
       "      <td>0.92</td>\n",
       "    </tr>\n",
       "    <tr>\n",
       "      <th>ExtraTreeRegressor</th>\n",
       "      <td>0.78</td>\n",
       "      <td>0.78</td>\n",
       "      <td>2233.21</td>\n",
       "      <td>0.04</td>\n",
       "    </tr>\n",
       "    <tr>\n",
       "      <th>KNeighborsRegressor</th>\n",
       "      <td>0.74</td>\n",
       "      <td>0.74</td>\n",
       "      <td>2442.77</td>\n",
       "      <td>0.30</td>\n",
       "    </tr>\n",
       "    <tr>\n",
       "      <th>DecisionTreeRegressor</th>\n",
       "      <td>0.68</td>\n",
       "      <td>0.69</td>\n",
       "      <td>2694.95</td>\n",
       "      <td>0.06</td>\n",
       "    </tr>\n",
       "  </tbody>\n",
       "</table>\n",
       "</div>"
      ],
      "text/plain": [
       "                               Adjusted R-Squared  R-Squared    RMSE  \\\n",
       "Model                                                                  \n",
       "ExtraTreesRegressor                          0.88       0.88 1648.35   \n",
       "XGBRegressor                                 0.88       0.88 1691.73   \n",
       "HistGradientBoostingRegressor                0.86       0.86 1789.93   \n",
       "LGBMRegressor                                0.86       0.86 1789.96   \n",
       "RandomForestRegressor                        0.84       0.84 1949.20   \n",
       "BaggingRegressor                             0.80       0.80 2154.32   \n",
       "GradientBoostingRegressor                    0.79       0.79 2181.16   \n",
       "ExtraTreeRegressor                           0.78       0.78 2233.21   \n",
       "KNeighborsRegressor                          0.74       0.74 2442.77   \n",
       "DecisionTreeRegressor                        0.68       0.69 2694.95   \n",
       "\n",
       "                               Time Taken  \n",
       "Model                                      \n",
       "ExtraTreesRegressor                  2.24  \n",
       "XGBRegressor                         0.80  \n",
       "HistGradientBoostingRegressor        1.34  \n",
       "LGBMRegressor                        0.26  \n",
       "RandomForestRegressor                2.85  \n",
       "BaggingRegressor                     0.37  \n",
       "GradientBoostingRegressor            0.92  \n",
       "ExtraTreeRegressor                   0.04  \n",
       "KNeighborsRegressor                  0.30  \n",
       "DecisionTreeRegressor                0.06  "
      ]
     },
     "execution_count": 11,
     "metadata": {},
     "output_type": "execute_result"
    }
   ],
   "source": [
    "from lazypredict.Supervised import LazyRegressor\n",
    "reg = LazyRegressor(verbose=0, ignore_warnings=False, custom_metric=None)\n",
    "models, predictions = reg.fit(X_train, X_test, y_train, y_test)\n",
    "models.head(10)"
   ]
  },
  {
   "cell_type": "code",
   "execution_count": 17,
   "id": "97006029",
   "metadata": {},
   "outputs": [],
   "source": [
    "from sklearn.ensemble import ExtraTreesRegressor"
   ]
  },
  {
   "cell_type": "code",
   "execution_count": 18,
   "id": "16cd7bcc",
   "metadata": {},
   "outputs": [],
   "source": [
    "etr = ExtraTreesRegressor(random_state = 14)"
   ]
  },
  {
   "cell_type": "code",
   "execution_count": 19,
   "id": "afb72f80",
   "metadata": {},
   "outputs": [],
   "source": [
    "from sklearn.model_selection import RandomizedSearchCV"
   ]
  },
  {
   "cell_type": "code",
   "execution_count": 20,
   "id": "7e387316",
   "metadata": {},
   "outputs": [],
   "source": [
    "import numpy as np"
   ]
  },
  {
   "cell_type": "code",
   "execution_count": 21,
   "id": "0f1d35b8",
   "metadata": {},
   "outputs": [],
   "source": [
    "n_estimators = [int(x) for x in np.linspace(start = 1, stop = 20, num = 10)] \n",
    "max_features = ['auto', 'sqrt'] \n",
    "max_depth = [int(x) for x in np.linspace(10, 120, num = 12)] \n",
    "min_samples_split = [2, 6, 10] \n",
    "min_samples_leaf = [1, 3, 5]\n",
    "bootstrap = [True, False]\n",
    "\n",
    "random_grid = {'n_estimators': n_estimators,\n",
    "\n",
    "'max_features': max_features,\n",
    "\n",
    "'max_depth': max_depth,\n",
    "\n",
    "'min_samples_split': min_samples_split,\n",
    "\n",
    "'min_samples_leaf': min_samples_leaf,\n",
    "\n",
    "'bootstrap': bootstrap}"
   ]
  },
  {
   "cell_type": "code",
   "execution_count": 22,
   "id": "2374644f",
   "metadata": {},
   "outputs": [],
   "source": [
    "etr_random = RandomizedSearchCV(estimator = etr,\n",
    "\n",
    "param_distributions = random_grid,\n",
    "               n_iter = 100, cv = 5, verbose=2, random_state=14, n_jobs = -1)"
   ]
  },
  {
   "cell_type": "code",
   "execution_count": 23,
   "id": "65609677",
   "metadata": {},
   "outputs": [
    {
     "name": "stdout",
     "output_type": "stream",
     "text": [
      "Fitting 5 folds for each of 100 candidates, totalling 500 fits\n"
     ]
    },
    {
     "name": "stderr",
     "output_type": "stream",
     "text": [
      "[Parallel(n_jobs=-1)]: Using backend LokyBackend with 4 concurrent workers.\n",
      "[Parallel(n_jobs=-1)]: Done  33 tasks      | elapsed:    7.5s\n",
      "[Parallel(n_jobs=-1)]: Done 154 tasks      | elapsed:   21.9s\n",
      "[Parallel(n_jobs=-1)]: Done 357 tasks      | elapsed:   44.1s\n",
      "[Parallel(n_jobs=-1)]: Done 500 out of 500 | elapsed:  1.0min finished\n"
     ]
    },
    {
     "data": {
      "text/plain": [
       "RandomizedSearchCV(cv=5, estimator=ExtraTreesRegressor(random_state=14),\n",
       "                   n_iter=100, n_jobs=-1,\n",
       "                   param_distributions={'bootstrap': [True, False],\n",
       "                                        'max_depth': [10, 20, 30, 40, 50, 60,\n",
       "                                                      70, 80, 90, 100, 110,\n",
       "                                                      120],\n",
       "                                        'max_features': ['auto', 'sqrt'],\n",
       "                                        'min_samples_leaf': [1, 3, 5],\n",
       "                                        'min_samples_split': [2, 6, 10],\n",
       "                                        'n_estimators': [1, 3, 5, 7, 9, 11, 13,\n",
       "                                                         15, 17, 20]},\n",
       "                   random_state=14, verbose=2)"
      ]
     },
     "execution_count": 23,
     "metadata": {},
     "output_type": "execute_result"
    }
   ],
   "source": [
    "etr_random.fit(X,y)"
   ]
  },
  {
   "cell_type": "code",
   "execution_count": 24,
   "id": "4ddfa57f",
   "metadata": {},
   "outputs": [
    {
     "data": {
      "text/plain": [
       "{'n_estimators': 15,\n",
       " 'min_samples_split': 6,\n",
       " 'min_samples_leaf': 1,\n",
       " 'max_features': 'auto',\n",
       " 'max_depth': 80,\n",
       " 'bootstrap': False}"
      ]
     },
     "execution_count": 24,
     "metadata": {},
     "output_type": "execute_result"
    }
   ],
   "source": [
    "etr_random.best_params_"
   ]
  },
  {
   "cell_type": "code",
   "execution_count": 26,
   "id": "0d91d220",
   "metadata": {},
   "outputs": [
    {
     "data": {
      "text/plain": [
       "ExtraTreesRegressor(max_depth=80, min_samples_split=6, n_estimators=15,\n",
       "                    random_state=14)"
      ]
     },
     "execution_count": 26,
     "metadata": {},
     "output_type": "execute_result"
    }
   ],
   "source": [
    "etr_random.best_estimator_"
   ]
  },
  {
   "cell_type": "code",
   "execution_count": 25,
   "id": "d234f156",
   "metadata": {},
   "outputs": [],
   "source": [
    "from sklearn.model_selection import GridSearchCV"
   ]
  },
  {
   "cell_type": "code",
   "execution_count": 27,
   "id": "bd5ed845",
   "metadata": {},
   "outputs": [],
   "source": [
    "model = ExtraTreesRegressor(max_depth=80, min_samples_split=6, n_estimators=15,\n",
    "                    random_state=14)"
   ]
  },
  {
   "cell_type": "code",
   "execution_count": 29,
   "id": "fb3d2098",
   "metadata": {},
   "outputs": [],
   "source": [
    "gsc = GridSearchCV(\n",
    "    estimator=model,\n",
    "    param_grid={\n",
    "        'n_estimators': [10, 15, 20],\n",
    "        'max_features': ['auto'],\n",
    "        'min_samples_leaf': [1, 3, 4],\n",
    "        'min_samples_split': [4, 6, 8],\n",
    "    },\n",
    "    scoring='r2',\n",
    "    cv=5\n",
    ")"
   ]
  },
  {
   "cell_type": "code",
   "execution_count": 30,
   "id": "d34736ea",
   "metadata": {},
   "outputs": [
    {
     "data": {
      "text/plain": [
       "GridSearchCV(cv=5,\n",
       "             estimator=ExtraTreesRegressor(max_depth=80, min_samples_split=6,\n",
       "                                           n_estimators=15, random_state=14),\n",
       "             param_grid={'max_features': ['auto'],\n",
       "                         'min_samples_leaf': [1, 3, 4],\n",
       "                         'min_samples_split': [4, 6, 8],\n",
       "                         'n_estimators': [10, 15, 20]},\n",
       "             scoring='r2')"
      ]
     },
     "execution_count": 30,
     "metadata": {},
     "output_type": "execute_result"
    }
   ],
   "source": [
    "gsc.fit(X, y)"
   ]
  },
  {
   "cell_type": "code",
   "execution_count": 31,
   "id": "3a4c91c6",
   "metadata": {},
   "outputs": [
    {
     "data": {
      "text/plain": [
       "ExtraTreesRegressor(max_depth=80, min_samples_split=8, n_estimators=20,\n",
       "                    random_state=14)"
      ]
     },
     "execution_count": 31,
     "metadata": {},
     "output_type": "execute_result"
    }
   ],
   "source": [
    "gsc.best_estimator_"
   ]
  },
  {
   "cell_type": "code",
   "execution_count": 33,
   "id": "96e009b0",
   "metadata": {},
   "outputs": [
    {
     "data": {
      "text/plain": [
       "{'max_features': 'auto',\n",
       " 'min_samples_leaf': 1,\n",
       " 'min_samples_split': 8,\n",
       " 'n_estimators': 20}"
      ]
     },
     "execution_count": 33,
     "metadata": {},
     "output_type": "execute_result"
    }
   ],
   "source": [
    "gsc.best_params_"
   ]
  },
  {
   "cell_type": "code",
   "execution_count": 34,
   "id": "9c5ae44c",
   "metadata": {},
   "outputs": [],
   "source": [
    "best = ExtraTreesRegressor(max_depth=80, min_samples_split=8, n_estimators=20,\n",
    "                    random_state=14)"
   ]
  },
  {
   "cell_type": "code",
   "execution_count": 36,
   "id": "664c2801",
   "metadata": {},
   "outputs": [
    {
     "data": {
      "text/plain": [
       "ExtraTreesRegressor(max_depth=80, min_samples_split=8, n_estimators=20,\n",
       "                    random_state=14)"
      ]
     },
     "execution_count": 36,
     "metadata": {},
     "output_type": "execute_result"
    }
   ],
   "source": [
    "best.fit(X_train, y_train)"
   ]
  },
  {
   "cell_type": "code",
   "execution_count": 37,
   "id": "099c4abf",
   "metadata": {},
   "outputs": [
    {
     "data": {
      "text/plain": [
       "0.894346087044644"
      ]
     },
     "execution_count": 37,
     "metadata": {},
     "output_type": "execute_result"
    }
   ],
   "source": [
    "best.score(X_test, y_test)"
   ]
  },
  {
   "cell_type": "code",
   "execution_count": 38,
   "id": "f7b0cc0d",
   "metadata": {},
   "outputs": [],
   "source": [
    "import pickle"
   ]
  },
  {
   "cell_type": "code",
   "execution_count": 40,
   "id": "675a5d1a",
   "metadata": {},
   "outputs": [
    {
     "data": {
      "text/plain": [
       "['best.pkl']"
      ]
     },
     "execution_count": 40,
     "metadata": {},
     "output_type": "execute_result"
    }
   ],
   "source": [
    "import joblib\n",
    "joblib.dump(best, 'best.pkl',compress=3)"
   ]
  },
  {
   "cell_type": "code",
   "execution_count": null,
   "id": "53f86df3",
   "metadata": {},
   "outputs": [],
   "source": []
  }
 ],
 "metadata": {
  "kernelspec": {
   "display_name": "Python 3 (ipykernel)",
   "language": "python",
   "name": "python3"
  },
  "language_info": {
   "codemirror_mode": {
    "name": "ipython",
    "version": 3
   },
   "file_extension": ".py",
   "mimetype": "text/x-python",
   "name": "python",
   "nbconvert_exporter": "python",
   "pygments_lexer": "ipython3",
   "version": "3.8.8"
  }
 },
 "nbformat": 4,
 "nbformat_minor": 5
}
